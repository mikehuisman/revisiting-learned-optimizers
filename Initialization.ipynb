{
 "cells": [
  {
   "cell_type": "code",
   "execution_count": 1,
   "metadata": {},
   "outputs": [],
   "source": [
    "import torch\n",
    "import torch.nn as nn\n",
    "import numpy as np\n",
    "\n",
    "\n",
    "torch.manual_seed(0)\n",
    "np.random.seed(0)"
   ]
  },
  {
   "cell_type": "code",
   "execution_count": 2,
   "metadata": {},
   "outputs": [
    {
     "data": {
      "text/plain": [
       "tensor([[ 3.1739e-01, -1.2493e+00,  2.9739e-02, -2.5135e-01, -4.2400e-01,\n",
       "         -6.5107e-01, -4.8135e-01,  1.8572e-01,  2.4321e-01, -6.6537e-01,\n",
       "          1.1119e+00,  9.7604e-01,  2.3962e-01,  1.4910e-01, -3.9817e-02,\n",
       "         -1.9280e-01, -5.0335e-01, -1.4665e+00, -3.8581e-01,  1.6099e-01],\n",
       "        [ 3.8319e-01, -1.3062e+00,  7.7922e-02, -1.5374e-01, -3.8813e-01,\n",
       "         -6.6296e-01, -5.2393e-01,  2.0676e-01,  3.0063e-01, -6.9137e-01,\n",
       "          1.1988e+00,  1.0757e+00,  2.5900e-01, -4.7389e-04, -4.5494e-02,\n",
       "         -7.1677e-02, -5.3358e-01, -1.5529e+00, -2.5745e-01,  2.0228e-01],\n",
       "        [ 2.8552e-01, -8.3904e-01,  1.8160e-01, -2.9460e-01, -4.0230e-01,\n",
       "         -5.0524e-01, -1.7678e-02,  3.6463e-01,  2.9972e-02, -3.3860e-01,\n",
       "          8.9774e-01,  1.0175e+00,  3.0359e-01, -1.8843e-01,  2.5372e-01,\n",
       "         -7.7955e-02, -1.8804e-01, -1.0978e+00, -1.8536e-01, -6.7075e-02],\n",
       "        [ 1.6708e-01, -9.5590e-01, -5.4745e-03, -4.7260e-01, -4.8924e-01,\n",
       "         -5.6407e-01, -1.9481e-01,  2.1843e-01,  3.2827e-02, -4.7176e-01,\n",
       "          8.4004e-01,  7.8681e-01,  2.2669e-01,  3.1560e-01,  9.7386e-02,\n",
       "         -3.9535e-01, -3.0584e-01, -1.1296e+00, -5.6682e-01, -2.2234e-02],\n",
       "        [ 1.6875e-01, -9.3623e-01,  5.4189e-03, -4.6990e-01, -4.8617e-01,\n",
       "         -5.5664e-01, -1.7144e-01,  2.2940e-01,  2.4053e-02, -4.5508e-01,\n",
       "          8.3275e-01,  7.9430e-01,  2.3123e-01,  2.8918e-01,  1.1329e-01,\n",
       "         -3.8270e-01, -2.9002e-01, -1.1137e+00, -5.4906e-01, -3.2666e-02]],\n",
       "       grad_fn=<AddmmBackward>)"
      ]
     },
     "execution_count": 2,
     "metadata": {},
     "output_type": "execute_result"
    }
   ],
   "source": [
    "h1 = nn.Linear(2, 20)\n",
    "h2 = nn.Linear(20, 20)\n",
    "h3 = nn.Linear(20, 1)\n",
    "\n",
    "inp = torch.rand([5,2])\n",
    "\n",
    "test = h1(inp)\n",
    "test"
   ]
  },
  {
   "cell_type": "code",
   "execution_count": 3,
   "metadata": {},
   "outputs": [
    {
     "name": "stdout",
     "output_type": "stream",
     "text": [
      "torch.Size([20, 2])\n"
     ]
    }
   ],
   "source": [
    "l = list(h1.parameters())\n",
    "\n",
    "print(l[0].size())\n",
    "w1 = l[0].clone().detach().numpy()\n",
    "b = l[1].clone().detach().numpy()\n"
   ]
  },
  {
   "cell_type": "code",
   "execution_count": 29,
   "metadata": {},
   "outputs": [
    {
     "data": {
      "text/plain": [
       "array([[ 3.17386031e-01, -1.24933958e+00,  2.97385380e-02,\n",
       "        -2.51349360e-01, -4.23996061e-01, -6.51068330e-01,\n",
       "        -4.81352091e-01,  1.85717136e-01,  2.43210852e-01,\n",
       "        -6.65371776e-01,  1.11194634e+00,  9.76037383e-01,\n",
       "         2.39618167e-01,  1.49097711e-01, -3.98166776e-02,\n",
       "        -1.92802310e-01, -5.03348470e-01, -1.46651411e+00,\n",
       "        -3.85808229e-01,  1.60986602e-01],\n",
       "       [ 3.83189559e-01, -1.30621028e+00,  7.79215917e-02,\n",
       "        -1.53737962e-01, -3.88127714e-01, -6.62955821e-01,\n",
       "        -5.23925245e-01,  2.06764698e-01,  3.00630331e-01,\n",
       "        -6.91368937e-01,  1.19878244e+00,  1.07566106e+00,\n",
       "         2.58999944e-01, -4.73894179e-04, -4.54943180e-02,\n",
       "        -7.16765225e-02, -5.33575416e-01, -1.55286908e+00,\n",
       "        -2.57445753e-01,  2.02281356e-01],\n",
       "       [ 2.85519451e-01, -8.39039624e-01,  1.81595311e-01,\n",
       "        -2.94601709e-01, -4.02300298e-01, -5.05238771e-01,\n",
       "        -1.76784098e-02,  3.64629567e-01,  2.99723446e-02,\n",
       "        -3.38598371e-01,  8.97738099e-01,  1.01752412e+00,\n",
       "         3.03588718e-01, -1.88426584e-01,  2.53715456e-01,\n",
       "        -7.79552162e-02, -1.88037306e-01, -1.09779143e+00,\n",
       "        -1.85356498e-01, -6.70754313e-02],\n",
       "       [ 1.67075425e-01, -9.55903530e-01, -5.47450781e-03,\n",
       "        -4.72600073e-01, -4.89237368e-01, -5.64069748e-01,\n",
       "        -1.94813251e-01,  2.18432859e-01,  3.28272581e-02,\n",
       "        -4.71756339e-01,  8.40040207e-01,  7.86810577e-01,\n",
       "         2.26686478e-01,  3.15604031e-01,  9.73863900e-02,\n",
       "        -3.95353824e-01, -3.05843413e-01, -1.12959313e+00,\n",
       "        -5.66819012e-01, -2.22336948e-02],\n",
       "       [ 1.68748394e-01, -9.36225772e-01,  5.41885942e-03,\n",
       "        -4.69896674e-01, -4.86169517e-01, -5.56641698e-01,\n",
       "        -1.71444297e-01,  2.29404256e-01,  2.40534842e-02,\n",
       "        -4.55078155e-01,  8.32746983e-01,  7.94295490e-01,\n",
       "         2.31227636e-01,  2.89176732e-01,  1.13289714e-01,\n",
       "        -3.82699013e-01, -2.90018380e-01, -1.11374748e+00,\n",
       "        -5.49062490e-01, -3.26664448e-02]], dtype=float32)"
      ]
     },
     "execution_count": 29,
     "metadata": {},
     "output_type": "execute_result"
    }
   ],
   "source": [
    "np.matmul(inp.numpy(), w1.T) + b"
   ]
  },
  {
   "cell_type": "code",
   "execution_count": 178,
   "metadata": {},
   "outputs": [
    {
     "name": "stdout",
     "output_type": "stream",
     "text": [
      "[-0.4052481  -0.39915    -0.17006285 -0.30969043 -0.29643335]\n"
     ]
    }
   ],
   "source": [
    "# Layers have size (out, in)\n",
    "\n",
    "b = None\n",
    "for i in range(100):\n",
    "    h1 = np.random.normal(loc=-0.01/10, scale=0.000000001, size=(20,2))\n",
    "    h1[:,1] -= h1[:,1] + np.random.normal(loc=0,scale=0.1, size=(20,))\n",
    "    h2 = np.random.normal(loc=1, scale=1, size=(20,20))\n",
    "    h3 = np.random.normal(loc=1, scale=1, size=(1,20))\n",
    "\n",
    "    o1 = np.matmul(inp.numpy(), h1.T)\n",
    "    o2 = np.matmul(o1, h2.T)\n",
    "    o3 = np.matmul(o2, h3.T).flatten()\n",
    "\n",
    "    if b is None:\n",
    "        b = (o3 - inp[:,0].numpy().flatten()*-0.01)*(o3 - inp[:,0].numpy()*-0.01)\n",
    "    else:\n",
    "        b += (o3 - inp[:,0].numpy().flatten()*-0.01)\n",
    "\n",
    "print(b/100)"
   ]
  },
  {
   "cell_type": "code",
   "execution_count": 276,
   "metadata": {},
   "outputs": [
    {
     "data": {
      "text/plain": [
       "(25,)"
      ]
     },
     "execution_count": 276,
     "metadata": {},
     "output_type": "execute_result"
    }
   ],
   "source": [
    "b.shape"
   ]
  },
  {
   "cell_type": "code",
   "execution_count": 5,
   "metadata": {},
   "outputs": [
    {
     "data": {
      "text/plain": [
       "tensor([-0.0085, -0.0080, -0.0023, -0.0070, -0.0067])"
      ]
     },
     "execution_count": 5,
     "metadata": {},
     "output_type": "execute_result"
    }
   ],
   "source": [
    "inp[:,0]*-0.01"
   ]
  },
  {
   "cell_type": "code",
   "execution_count": null,
   "metadata": {},
   "outputs": [],
   "source": []
  }
 ],
 "metadata": {
  "kernelspec": {
   "display_name": "Python 3",
   "language": "python",
   "name": "python3"
  },
  "language_info": {
   "codemirror_mode": {
    "name": "ipython",
    "version": 3
   },
   "file_extension": ".py",
   "mimetype": "text/x-python",
   "name": "python",
   "nbconvert_exporter": "python",
   "pygments_lexer": "ipython3",
   "version": "3.7.6"
  }
 },
 "nbformat": 4,
 "nbformat_minor": 4
}
